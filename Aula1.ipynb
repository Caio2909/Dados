{
  "cells": [
    {
      "cell_type": "markdown",
      "metadata": {
        "id": "view-in-github",
        "colab_type": "text"
      },
      "source": [
        "<a href=\"https://colab.research.google.com/github/Caio2909/Dados/blob/main/Aula1.ipynb\" target=\"_parent\"><img src=\"https://colab.research.google.com/assets/colab-badge.svg\" alt=\"Open In Colab\"/></a>"
      ]
    },
    {
      "cell_type": "code",
      "execution_count": null,
      "metadata": {
        "id": "tVvXzKVuxPaQ"
      },
      "outputs": [],
      "source": [
        "nomes = ['Abel','Ana','Bruno','Bianca','Pedro','João','Lucas','Caio','Gabriel','Matheus']\n",
        "materias = ['LP1','LP2','AED1','SO','LP3','CALC1','AED2','SD','WEB0','WEB1']"
      ]
    },
    {
      "cell_type": "code",
      "execution_count": null,
      "metadata": {
        "id": "wNpDEMwTsNiO"
      },
      "outputs": [],
      "source": [
        "import pandas as pd\n",
        "import numpy as np\n",
        "import matplotlib.pyplot as plt\n",
        "lista_nomes = list()\n",
        "lista_materias = list()\n",
        "lista_notas = list()\n",
        "for nome in nomes:\n",
        "    num_materias = np.random.randint(3,11) #gera quantas matérias o aluno selecionado realizou\n",
        "    materias_escolhidas = np.random.choice(materias, size=num_materias,replace=False) #escolhe as materias de acordo com a quantidade gerada\n",
        "    for materia in materias_escolhidas:\n",
        "        nota = np.round(np.random.random()*10,1) #gera uma nota aleatória de 0 a 10\n",
        "        lista_nomes.append(nome)\n",
        "        lista_materias.append(materia)\n",
        "        lista_notas.append(nota)"
      ]
    },
    {
      "cell_type": "code",
      "source": [
        "turma = { 'nomes' : lista_nomes,\n",
        "          'materias' : lista_materias,\n",
        "          'notas' : lista_notas}\n",
        "df_turma = pd.DataFrame(turma)"
      ],
      "metadata": {
        "collapsed": true,
        "id": "2yY-wUJG17Ub"
      },
      "execution_count": null,
      "outputs": []
    },
    {
      "cell_type": "code",
      "source": [
        "pivo_df = df_turma.pivot(index = 'nomes', columns='materias', values='notas')\n",
        "pivo_df = pd.concat([pivo_df, pd.DataFrame({ 'LP1':10, 'LP2':8.5}, index=['Marcos'])])\n",
        "pivo_df['media'] = pivo_df.mean(axis=1)\n",
        "pivo_df['media'] = pivo_df['media'].round(2)\n",
        "pivo_df['norm'] = (pivo_df['media']/pivo_df['media'].max()).round(2)\n",
        "pivo_df[pivo_df['norm'] > 0.5]\n",
        "plt.title(\"Boxplot das notas\")\n",
        "plt.boxplot(df_turma['notas'])\n",
        "plt.show()"
      ],
      "metadata": {
        "colab": {
          "base_uri": "https://localhost:8080/",
          "height": 452
        },
        "id": "g6ov9O7E422c",
        "outputId": "b038acf8-5be8-4f42-ce3e-2d2a6e933899"
      },
      "execution_count": null,
      "outputs": [
        {
          "output_type": "display_data",
          "data": {
            "text/plain": [
              "<Figure size 640x480 with 1 Axes>"
            ],
            "image/png": "[encoded data removed]"
          },
          "metadata": {}
        }
      ]
    },
    {
      "cell_type": "code",
      "source": [],
      "metadata": {
        "id": "n6rVal7rzX7t"
      },
      "execution_count": null,
      "outputs": []
    }
  ],
  "metadata": {
    "colab": {
      "provenance": [],
      "authorship_tag": "ABX9TyOg3CBOjDfhFhzsuzqcH0qq",
      "include_colab_link": true
    },
    "kernelspec": {
      "display_name": "Python 3",
      "name": "python3"
    },
    "language_info": {
      "name": "python"
    }
  },
  "nbformat": 4,
  "nbformat_minor": 0
}